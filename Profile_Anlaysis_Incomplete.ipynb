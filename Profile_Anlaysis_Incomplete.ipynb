{
 "cells": [
  {
   "cell_type": "markdown",
   "id": "dbb49875-1a93-4dec-9992-c749f3777341",
   "metadata": {},
   "source": [
    "## Incomplete Profile Analysis for repeated measures designs\n",
    "\n",
    "All data other than the names of variables have been redacted from this document. The graph at the end contains numbers that are not in any way linked to the data that was analysed"
   ]
  },
  {
   "cell_type": "markdown",
   "id": "1852eb31",
   "metadata": {},
   "source": [
    "Analysis: Profile Analysis\n",
    "\n",
    "Assumptions:\n",
    "\n",
    "No Missing Data - some variables had more than 5% so both participants with missing data were removed   \n",
    "Outliers - Univariate - winzorised some variables    \n",
    "Outliers - Multivariate - None detected via Mahalanobis distance  \n",
    "Normality - Univariate - Shapiro Wilk test returned 4 non-nomrally distributed variables  \n",
    "Normality - Multivariate - Test showed there was multivariate non-normality \n",
    "Homogeneity of Variance -  \n",
    "Lineairty -  \n",
    "Multicollinearity/Singularity -  \n",
    "Parallelism \n",
    "Flatness - "
   ]
  },
  {
   "cell_type": "code",
   "execution_count": 16,
   "id": "9ffbf987",
   "metadata": {},
   "outputs": [
    {
     "name": "stderr",
     "output_type": "stream",
     "text": [
      "/Users/jackcrosby/opt/anaconda3/lib/python3.9/site-packages/outdated/utils.py:14: OutdatedPackageWarning: The package pingouin is out of date. Your version is 0.5.1, the latest is 0.5.2.\n",
      "Set the environment variable OUTDATED_IGNORE=1 to disable these warnings.\n",
      "  return warn(\n"
     ]
    }
   ],
   "source": [
    "#Import packages\n",
    "import os\n",
    "import pandas as pd\n",
    "import numpy\n",
    "import seaborn as sns\n",
    "from scipy.stats.mstats import winsorize\n",
    "import numpy as np\n",
    "from scipy.stats import chi2\n",
    "from scipy.stats import shapiro\n",
    "import matplotlib.pyplot as plt\n",
    "from scipy import stats\n",
    "from scipy.stats import kstest\n",
    "from scipy.stats import pearsonr\n",
    "from pingouin import multivariate_normality"
   ]
  },
  {
   "cell_type": "code",
   "execution_count": 1,
   "id": "fd45e184",
   "metadata": {},
   "outputs": [],
   "source": [
    "# Set dir\n",
    "os.getcwd()\n",
    "os.chdir('/Users/'['REDACTED']'/Desktop/['REDACTED'])\n",
    "os.getcwd()"
   ]
  },
  {
   "cell_type": "code",
   "execution_count": 2,
   "id": "9a89cfcf",
   "metadata": {},
   "outputs": [],
   "source": [
    "# Import Dataset\n",
    "pd.set_option('display.max_columns', None)\n",
    "pd.set_option('display.max_rows', None)\n",
    "df1 = pd.read_excel('[REDACTED].xlsx')\n",
    "display(df1)"
   ]
  },
  {
   "cell_type": "markdown",
   "id": "9e7dc64c",
   "metadata": {},
   "source": [
    "TIME POINT 1:\n",
    "Baseline ORS average\n",
    "Baseline ROc Inflexible average\n",
    "Baseline ROc Reorganisation average\n",
    "Baseline GAD7 average\n",
    "Baseline PHQ9 average\n",
    "\n",
    "Time point 2:\n",
    "POST ORS\n",
    "POST ROc Inflexible\n",
    "POST ROc Reorganisation\n",
    "POST GAD7\n",
    "POST PHQ9\n",
    "\n",
    "Time point 3: 1 week follow up\n",
    "FU1 ORS\n",
    "FU1 ROc Inflexible\n",
    "FU1 ROc Reorganisation\n",
    "FU1 GAD7\n",
    "FU1 PHQ9\n",
    "\n",
    "Time point 4: 4 week follow up\n",
    "FU4 ORS\n",
    "FU4 ROc Inflexible\n",
    "FU4 ROc Reorganisation\n",
    "FU4 GAD7\n",
    "FU4 PHQ9"
   ]
  },
  {
   "cell_type": "code",
   "execution_count": 3,
   "id": "76e81e70",
   "metadata": {},
   "outputs": [],
   "source": [
    "df2 = df1[['BASELINE_ORS_Average',\n",
    "'BASELINE_ROC_Inflexible_ Average',\n",
    "'BASELINE_ROC_Reorganisation_ Average',\n",
    "'BASELINE_GAD7_ Average',\n",
    "'BASELINE_PHQ9_ Average',\n",
    "'POST_ORS_Total',\n",
    "'POST_ROC_Inflexible',\n",
    "'POST_ROC_Reorganisation',\n",
    "'POST_GAD7_TOTAL',\n",
    "'POST_PHQ9_TOTAL',\n",
    "'FU1_ORS_Total',\n",
    "'FU1_ROC_Inflexible',\n",
    "'FU1_ROC_Reorganisation',\n",
    "'FU1_GAD7_TOTAL',\n",
    "'FU1_PHQ9_TOTAL',\n",
    "'FU4_ORS_Total',\n",
    "'FU4_ROC_Inflexible',\n",
    "'FU4_ROC_Reorganisation',\n",
    "'FU4_GAD7_TOTAL',\n",
    "'FU4_PHQ9_TOTAL',\n",
    "'SessionsAttended']]\n",
    "display(df2)"
   ]
  },
  {
   "cell_type": "code",
   "execution_count": 4,
   "id": "29df9374",
   "metadata": {},
   "outputs": [],
   "source": [
    "np.mean(df2)"
   ]
  },
  {
   "cell_type": "code",
   "execution_count": 5,
   "id": "2131fd2e",
   "metadata": {},
   "outputs": [],
   "source": [
    "np.std(df2)"
   ]
  },
  {
   "cell_type": "markdown",
   "id": "41bf7ca3",
   "metadata": {},
   "source": [
    "MISSING DATA ANALYSIS"
   ]
  },
  {
   "cell_type": "code",
   "execution_count": 6,
   "id": "1ee13ad2",
   "metadata": {},
   "outputs": [],
   "source": [
    "# percentage missing values in the dataframe\n",
    "df2.isnull().sum()/len(df2)"
   ]
  },
  {
   "cell_type": "markdown",
   "id": "6515030f",
   "metadata": {},
   "source": [
    "FU1 has 5% missing data, FU4 has 10.5% so multiple imputation is only really possible for FU1. However, when you do this by rows both participants with missing data have 45.4% and 22.7% missing data meaning multiple impuation can not be used. Thus the only other option is to exclude them from the Analysis... Sorry!"
   ]
  },
  {
   "cell_type": "code",
   "execution_count": 7,
   "id": "596127ce",
   "metadata": {},
   "outputs": [],
   "source": [
    "df3 = df2.drop([13, 18])\n",
    "display(df3)"
   ]
  },
  {
   "cell_type": "markdown",
   "id": "1fb0d22a",
   "metadata": {},
   "source": [
    "UNIVARIATE OUTLIER ANALYSIS"
   ]
  },
  {
   "cell_type": "code",
   "execution_count": 4,
   "id": "62f6f407",
   "metadata": {},
   "outputs": [],
   "source": [
    "sns.set(rc={\"figure.figsize\":(20, 10)})\n",
    "sns.boxplot(data = df3[['BASELINE_ORS_Average', 'BASELINE_ROC_Inflexible_ Average', 'BASELINE_ROC_Reorganisation_ Average', 'BASELINE_GAD7_ Average', 'BASELINE_PHQ9_ Average']])"
   ]
  },
  {
   "cell_type": "code",
   "execution_count": 3,
   "id": "f196b0dc",
   "metadata": {},
   "outputs": [],
   "source": [
    "sns.boxplot(data = df3[['POST_ORS_Total', 'POST_ROC_Inflexible', 'POST_ROC_Reorganisation', 'POST_GAD7_TOTAL', 'POST_PHQ9_TOTAL']])"
   ]
  },
  {
   "cell_type": "code",
   "execution_count": 2,
   "id": "e406a647",
   "metadata": {},
   "outputs": [],
   "source": [
    "sns.boxplot(data = df3[['FU1_ORS_Total', 'FU1_ROC_Inflexible', 'FU1_ROC_Reorganisation', 'FU1_GAD7_TOTAL', 'FU1_PHQ9_TOTAL']])"
   ]
  },
  {
   "cell_type": "code",
   "execution_count": 1,
   "id": "e849d7ba",
   "metadata": {},
   "outputs": [],
   "source": [
    "sns.boxplot(data = df3[['FU4_ORS_Total', 'FU4_ROC_Inflexible', 'FU4_ROC_Reorganisation', 'FU4_GAD7_TOTAL', 'FU4_PHQ9_TOTAL', 'SessionsAttended']])"
   ]
  },
  {
   "cell_type": "markdown",
   "id": "07fe6349",
   "metadata": {},
   "source": [
    "Variables that contain outliers:\n",
    "BASELINE_ROC_Inflexible_ Average\n",
    "POST_ROC_Inflexible\n",
    "POST_GAD7_TOTAL\n",
    "POST_PHQ9_TOTAL"
   ]
  },
  {
   "cell_type": "markdown",
   "id": "521b2c86",
   "metadata": {},
   "source": [
    "OUTLIER SOLUTION: WINZORISING"
   ]
  },
  {
   "cell_type": "code",
   "execution_count": 8,
   "id": "657f6bc7",
   "metadata": {},
   "outputs": [],
   "source": [
    "df4 = df3\n",
    "display(df4)"
   ]
  },
  {
   "cell_type": "code",
   "execution_count": 9,
   "id": "e434546b",
   "metadata": {},
   "outputs": [],
   "source": [
    "print(type(df4))"
   ]
  },
  {
   "cell_type": "code",
   "execution_count": 10,
   "id": "f61642b9",
   "metadata": {},
   "outputs": [],
   "source": [
    "df4[['BASELINE_ROC_Inflexible_ Average', 'POST_ROC_Inflexible', 'POST_GAD7_TOTAL', 'POST_PHQ9_TOTAL', 'FU1_PHQ9_TOTAL']] = df3[['BASELINE_ROC_Inflexible_ Average', 'POST_ROC_Inflexible', 'POST_GAD7_TOTAL', 'POST_PHQ9_TOTAL', 'FU1_PHQ9_TOTAL']].clip(lower=df3.quantile(0.10), upper=df3.quantile(0.90), axis=1)\n",
    "df4.quantile([0, 0.01, 0.25, 0.5, 0.75, 0.99, 1])"
   ]
  },
  {
   "cell_type": "code",
   "execution_count": null,
   "id": "34e8d82d",
   "metadata": {},
   "outputs": [],
   "source": []
  },
  {
   "cell_type": "code",
   "execution_count": 11,
   "id": "f44bf075",
   "metadata": {},
   "outputs": [],
   "source": [
    "display(df4)"
   ]
  },
  {
   "cell_type": "code",
   "execution_count": 44,
   "id": "6e1ab2dd",
   "metadata": {},
   "outputs": [],
   "source": [
    "sns.boxplot(data = df4[['BASELINE_ORS_Average', 'BASELINE_ROC_Inflexible_ Average', 'BASELINE_ROC_Reorganisation_ Average', 'BASELINE_GAD7_ Average', 'BASELINE_PHQ9_ Average']])"
   ]
  },
  {
   "cell_type": "code",
   "execution_count": 43,
   "id": "c7fdc947",
   "metadata": {},
   "outputs": [],
   "source": [
    "sns.boxplot(data = df4[['POST_ORS_Total', 'POST_ROC_Inflexible', 'POST_ROC_Reorganisation', 'POST_GAD7_TOTAL', 'POST_PHQ9_TOTAL']])"
   ]
  },
  {
   "cell_type": "code",
   "execution_count": 42,
   "id": "e868f6b1",
   "metadata": {},
   "outputs": [],
   "source": [
    "sns.boxplot(data = df4[['FU1_ORS_Total', 'FU1_ROC_Inflexible', 'FU1_ROC_Reorganisation', 'FU1_GAD7_TOTAL', 'FU1_PHQ9_TOTAL']])"
   ]
  },
  {
   "cell_type": "code",
   "execution_count": 41,
   "id": "a9b0df85",
   "metadata": {},
   "outputs": [],
   "source": [
    "sns.boxplot(data = df3[['FU4_ORS_Total', 'FU4_ROC_Inflexible', 'FU4_ROC_Reorganisation', 'FU4_GAD7_TOTAL', 'FU4_PHQ9_TOTAL', 'SessionsAttended']])"
   ]
  },
  {
   "cell_type": "markdown",
   "id": "ac151e15",
   "metadata": {},
   "source": [
    "So there are now no univariate outliers within the dataset"
   ]
  },
  {
   "cell_type": "markdown",
   "id": "2e6b8c17",
   "metadata": {},
   "source": [
    "MULTIVARIATE OUTLIER ANALYSIS"
   ]
  },
  {
   "cell_type": "code",
   "execution_count": 12,
   "id": "0af9290f",
   "metadata": {},
   "outputs": [],
   "source": [
    "def mahalanobis(x=None, data=None, cov=None):\n",
    "\n",
    "    x_mu = x - np.mean(df4)\n",
    "    if not cov:\n",
    "        cov = np.cov(df4.values.T)\n",
    "    inv_covmat = np.linalg.inv(cov)\n",
    "    left = np.dot(x_mu, inv_covmat)\n",
    "    mahal = np.dot(left, x_mu.T)\n",
    "    return mahal.diagonal()\n",
    "\n",
    "#create new column in dataframe that contains Mahalanobis distance for each row\n",
    "df4['mahalanobis'] = mahalanobis(x=df4, data=df4)\n",
    "display(df4)"
   ]
  },
  {
   "cell_type": "code",
   "execution_count": 13,
   "id": "2dbe5ab2",
   "metadata": {},
   "outputs": [],
   "source": [
    "df4['mahal_p'] = 1 - chi2.cdf(df4['mahalanobis'], 20)\n",
    "#display first five rows of dataframe\n",
    "display(df4)"
   ]
  },
  {
   "cell_type": "markdown",
   "id": "26a4c95d",
   "metadata": {},
   "source": [
    "Mahalanobis p values are all above p<.001 threshold. No multivariate outliers exist within the dataset. "
   ]
  },
  {
   "cell_type": "markdown",
   "id": "4f34f80a",
   "metadata": {},
   "source": []
  },
  {
   "cell_type": "markdown",
   "id": "e8997343",
   "metadata": {},
   "source": [
    "No Multivariate Outliers p<.001"
   ]
  },
  {
   "cell_type": "markdown",
   "id": "b512d6a9",
   "metadata": {},
   "source": [
    "NORMALITY\n",
    "Fairly easy way to do this, shapiro wilk test then back it up with histograms and QQ plots\n",
    "\n",
    "Variable list:\n",
    "BASELINE_ORS_Average                    \n",
    "BASELINE_ROC_Inflexible_Average        \n",
    "BASELINE_ROC_Reorganisation_Average    \n",
    "BASELINE_GAD7_Average                  \n",
    "BASELINE_PHQ9_Average                  \n",
    "POST_ORS_Total                          \n",
    "POST_ROC_Inflexible                     \n",
    "POST_ROC_Reorganisation                 \n",
    "POST_GAD7_TOTAL                         \n",
    "POST_PHQ9_TOTAL                         \n",
    "FU1_ORS_Total                           \n",
    "FU1_ROC_Inflexible                      \n",
    "FU1_ROC_Reorganisation                  \n",
    "FU1_GAD7_TOTAL                          \n",
    "FU1_PHQ9_TOTAL                          \n",
    "FU4_ORS_Total                           \n",
    "FU4_ROC_Inflexible                      \n",
    "FU4_ROC_Reorganisation                  \n",
    "FU4_GAD7_TOTAL                          \n",
    "FU4_PHQ9_TOTAL                          \n",
    "SessionsAttended                        "
   ]
  },
  {
   "cell_type": "code",
   "execution_count": 40,
   "id": "7a2e347f",
   "metadata": {},
   "outputs": [],
   "source": [
    "plt.hist(df4[['BASELINE_ORS_Average']])\n",
    "shapiro(df4[['BASELINE_ORS_Average']])"
   ]
  },
  {
   "cell_type": "code",
   "execution_count": 39,
   "id": "4863fba6",
   "metadata": {},
   "outputs": [],
   "source": [
    "plt.hist(df4[['BASELINE_ROC_Inflexible_ Average']])\n",
    "shapiro(df4[['BASELINE_ROC_Inflexible_ Average']])"
   ]
  },
  {
   "cell_type": "code",
   "execution_count": 38,
   "id": "8aaab874",
   "metadata": {},
   "outputs": [],
   "source": [
    "plt.hist(df4[['BASELINE_ROC_Reorganisation_ Average']])\n",
    "shapiro(df4[['BASELINE_ROC_Reorganisation_ Average']])"
   ]
  },
  {
   "cell_type": "code",
   "execution_count": 37,
   "id": "11a6145b",
   "metadata": {},
   "outputs": [],
   "source": [
    "plt.hist(df4[['BASELINE_GAD7_ Average']])\n",
    "shapiro(df4[['BASELINE_GAD7_ Average']])"
   ]
  },
  {
   "cell_type": "code",
   "execution_count": 36,
   "id": "fed5dfb1",
   "metadata": {},
   "outputs": [],
   "source": [
    "plt.hist(df4[['POST_ORS_Total']])\n",
    "shapiro(df4[['POST_ORS_Total']])    "
   ]
  },
  {
   "cell_type": "code",
   "execution_count": 35,
   "id": "5b78e10e",
   "metadata": {},
   "outputs": [],
   "source": [
    "plt.hist(df4[['POST_ROC_Inflexible']])\n",
    "shapiro(df4[['POST_ROC_Inflexible']])"
   ]
  },
  {
   "cell_type": "code",
   "execution_count": 34,
   "id": "0a576cf6",
   "metadata": {},
   "outputs": [],
   "source": [
    "plt.hist(df4[['POST_ROC_Reorganisation']])\n",
    "shapiro(df4[['POST_ROC_Reorganisation']])"
   ]
  },
  {
   "cell_type": "code",
   "execution_count": 33,
   "id": "02268bb7",
   "metadata": {},
   "outputs": [],
   "source": [
    "plt.hist(df4[['POST_GAD7_TOTAL']])\n",
    "shapiro(df4[['POST_GAD7_TOTAL']])"
   ]
  },
  {
   "cell_type": "code",
   "execution_count": 32,
   "id": "f043a18f",
   "metadata": {},
   "outputs": [],
   "source": [
    "plt.hist(df5[['POST_PHQ9_TOTAL']])\n",
    "shapiro(df5[['POST_PHQ9_TOTAL']])"
   ]
  },
  {
   "cell_type": "code",
   "execution_count": 31,
   "id": "ea9af057",
   "metadata": {},
   "outputs": [],
   "source": [
    "plt.hist(df4[['FU1_ORS_Total']])\n",
    "shapiro(df4[['FU1_ORS_Total']])"
   ]
  },
  {
   "cell_type": "code",
   "execution_count": 30,
   "id": "49017fbf",
   "metadata": {},
   "outputs": [],
   "source": [
    "plt.hist(df4[['FU1_ROC_Inflexible']])\n",
    "shapiro(df4[['FU1_ROC_Inflexible']])"
   ]
  },
  {
   "cell_type": "code",
   "execution_count": 29,
   "id": "acaba1e2",
   "metadata": {},
   "outputs": [],
   "source": [
    "plt.hist(df4[['FU1_ROC_Reorganisation']])\n",
    "shapiro(df4[['FU1_ROC_Reorganisation']])"
   ]
  },
  {
   "cell_type": "code",
   "execution_count": 27,
   "id": "aec2e8bc",
   "metadata": {},
   "outputs": [],
   "source": [
    "plt.hist(df4[['FU1_GAD7_TOTAL']])\n",
    "shapiro(df4[['FU1_GAD7_TOTAL']])"
   ]
  },
  {
   "cell_type": "code",
   "execution_count": 26,
   "id": "69e202e0",
   "metadata": {},
   "outputs": [],
   "source": [
    "plt.hist(df4[['FU1_PHQ9_TOTAL']])\n",
    "shapiro(df4[['FU1_PHQ9_TOTAL']])"
   ]
  },
  {
   "cell_type": "code",
   "execution_count": 25,
   "id": "b387a91f",
   "metadata": {},
   "outputs": [],
   "source": [
    "plt.hist(df4[['FU4_ORS_Total']])\n",
    "shapiro(df4[['FU4_ORS_Total']])"
   ]
  },
  {
   "cell_type": "code",
   "execution_count": 24,
   "id": "a80e4956",
   "metadata": {},
   "outputs": [],
   "source": [
    "plt.hist(df4[['FU4_ROC_Inflexible']])\n",
    "shapiro(df4[['FU4_ROC_Inflexible']])"
   ]
  },
  {
   "cell_type": "code",
   "execution_count": 23,
   "id": "02b92306",
   "metadata": {},
   "outputs": [],
   "source": [
    "plt.hist(df4[['FU4_ROC_Reorganisation']])\n",
    "shapiro(df4[['FU4_ROC_Reorganisation']])"
   ]
  },
  {
   "cell_type": "code",
   "execution_count": 22,
   "id": "a47e0904",
   "metadata": {},
   "outputs": [],
   "source": [
    "plt.hist(df4[['FU4_GAD7_TOTAL']])\n",
    "shapiro(df4[['FU4_GAD7_TOTAL']])"
   ]
  },
  {
   "cell_type": "code",
   "execution_count": 21,
   "id": "6d540c1b",
   "metadata": {},
   "outputs": [],
   "source": [
    "plt.hist(df4[['FU4_PHQ9_TOTAL']])\n",
    "shapiro(df4[['FU4_PHQ9_TOTAL']])"
   ]
  },
  {
   "cell_type": "code",
   "execution_count": 20,
   "id": "ff5c0ff9",
   "metadata": {},
   "outputs": [],
   "source": [
    "plt.hist(df4[['SessionsAttended']])\n",
    "shapiro(df4[['SessionsAttended']])"
   ]
  },
  {
   "cell_type": "markdown",
   "id": "1f3a777f",
   "metadata": {},
   "source": [
    "Variables not normally distirbuted:\n",
    "\n",
    "BASELINE_ROC_Inflexible_ Average\n",
    "\n",
    "POST_ROC_Inflexible\n",
    "\n",
    "POST_GAD7_TOTAL\n",
    "\n",
    "FU1_PHQ9_TOTAL\n",
    "\n",
    "SessionsAttended\n",
    "\n"
   ]
  },
  {
   "cell_type": "markdown",
   "id": "2d9bea60",
   "metadata": {},
   "source": [
    "Non-Normally Distributed Variables\n",
    "\n",
    "BASELINE_ROC_Inflexible_Average\n",
    "POST_ROC_Inflexible\n",
    "SessionsAttended\n",
    "\n",
    "Transforming variables may be useful, but the interpretation becomes very difficult. So we'll opt in for non-parametric statistics.\n",
    "\n",
    "Friedman test would probably be the best way forward. - no covariate though.\n",
    "We'll use a repeated measures MANOVA - I can't find a way to do a multivariate friedman... Unless you did a multivariate friedman but with a more strict p value (p<.01) rather than p<.05...\n",
    "\n",
    "IV = Time Point (4 levels; baseline, post, follow up 1, follow up 2 - this took 2 hours of solid thinking...\n",
    "\n",
    "DVs = \n",
    "\n",
    "ORS                          \n",
    "ROC_Inflexible                     \n",
    "ROC_Reorganisation                 \n",
    "GAD7                         \n",
    "PHQ9        "
   ]
  },
  {
   "cell_type": "markdown",
   "id": "6b9f3a13",
   "metadata": {},
   "source": [
    "Multivariate Normality"
   ]
  },
  {
   "cell_type": "code",
   "execution_count": 169,
   "id": "885dec4a",
   "metadata": {},
   "outputs": [
    {
     "data": {
      "text/plain": [
       "HZResults(hz=68, pval=0.0, normal=False)"
      ]
     },
     "execution_count": 169,
     "metadata": {},
     "output_type": "execute_result"
    }
   ],
   "source": [
    "multivariate_normality(df4, alpha=.05)"
   ]
  },
  {
   "cell_type": "code",
   "execution_count": null,
   "id": "8853fa74",
   "metadata": {},
   "outputs": [],
   "source": []
  },
  {
   "cell_type": "code",
   "execution_count": 14,
   "id": "7d3fcfd1",
   "metadata": {},
   "outputs": [],
   "source": [
    "np.mean(df4)"
   ]
  },
  {
   "cell_type": "code",
   "execution_count": 19,
   "id": "b2b55131",
   "metadata": {},
   "outputs": [
    {
     "data": {
      "text/plain": [
       "<Figure size 432x288 with 0 Axes>"
      ]
     },
     "metadata": {},
     "output_type": "display_data"
    },
    {
     "data": {
      "image/png": "[encoded data removed]",
      "text/plain": [
       "<Figure size 1080x720 with 1 Axes>"
      ]
     },
     "metadata": {
      "needs_background": "light"
     },
     "output_type": "display_data"
    }
   ],
   "source": [
    "# Here's a bar chart to depict the differences between the different measures across the 4 time points\n",
    "\n",
    "plt.savefig('figure.jpg')  \n",
    "plt.rc('font', size=20)\n",
    "\n",
    "#Means were redacted from this graph with random numbers to show how this then \n",
    "tp1 = [1, 1, 1, 1, 1]\n",
    "tp2 = [2, 2, 2, 2, 2]\n",
    "tp3 = [3, 3, 3, 3, 3]\n",
    "tp4 = [4, 4, 4, 4, 4]\n",
    "\n",
    "x = ['ORS', 'ROC Inflexible', 'ROC Reorganisation', 'GAD7', 'PHQ9']\n",
    "lgnd = ['Baseline', 'Post Intervention', 'Follow up 1', 'Follow up 2']\n",
    "f = plt.figure()\n",
    "f.set_figwidth(15)\n",
    "f.set_figheight(10)\n",
    "\n",
    "width =0.15\n",
    "plt.bar(x, tp1, width=width)\n",
    "plt.bar(np.arange(len(tp2)) + width, tp2, width=width)\n",
    "plt.bar(np.arange(len(tp3)) + width *2, tp3, width=width)\n",
    "plt.bar(np.arange(len(tp4)) + width *3, tp4, width=width)\n",
    "plt.legend(lgnd,loc=2)\n",
    "plt.title('Average Scores Across Participants Between Baseline, Post Intervention, Follow Up 1, and Second Follow Up')\n",
    "plt.xlabel('measure')\n",
    "plt.ylabel('score')\n",
    "plt.show() \n"
   ]
  },
  {
   "cell_type": "code",
   "execution_count": null,
   "id": "baa93ad0",
   "metadata": {},
   "outputs": [],
   "source": []
  }
 ],
 "metadata": {
  "kernelspec": {
   "display_name": "Python 3 (ipykernel)",
   "language": "python",
   "name": "python3"
  },
  "language_info": {
   "codemirror_mode": {
    "name": "ipython",
    "version": 3
   },
   "file_extension": ".py",
   "mimetype": "text/x-python",
   "name": "python",
   "nbconvert_exporter": "python",
   "pygments_lexer": "ipython3",
   "version": "3.9.7"
  }
 },
 "nbformat": 4,
 "nbformat_minor": 5
}
